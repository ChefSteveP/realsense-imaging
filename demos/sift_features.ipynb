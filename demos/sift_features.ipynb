{
 "cells": [
  {
   "cell_type": "code",
   "execution_count": 3,
   "id": "31a7db10-f25b-48d3-9cc6-ea9f6b2aadc2",
   "metadata": {},
   "outputs": [],
   "source": [
    "import cv2      \n",
    "import numpy as np              \n",
    "import matplotlib.pyplot as plt  \n",
    "\n",
    "from PIL import Image"
   ]
  },
  {
   "cell_type": "code",
   "execution_count": 14,
   "id": "8d01e045-9778-4bee-9e8b-82a8ae4517f5",
   "metadata": {},
   "outputs": [
    {
     "data": {
      "text/plain": [
       "True"
      ]
     },
     "execution_count": 14,
     "metadata": {},
     "output_type": "execute_result"
    }
   ],
   "source": [
    "# Loading the image\n",
    "img = cv2.imread('post_small.png')\n",
    " \n",
    " # Converting image to grayscale\n",
    "gray= cv2.cvtColor(img,cv2.COLOR_BGR2GRAY)\n",
    " \n",
    "# Applying SIFT detector\n",
    "sift = cv2.SIFT_create()\n",
    "kp = sift.detect(gray, None)\n",
    " \n",
    "# Marking the keypoint on the image using circles\n",
    "img=cv2.drawKeypoints(gray ,\n",
    "                      kp ,\n",
    "                      img ,\n",
    "                      flags=cv2.DRAW_MATCHES_FLAGS_DRAW_RICH_KEYPOINTS)\n",
    " \n",
    "cv2.imwrite('post_small_sift.png', img)"
   ]
  },
  {
   "cell_type": "code",
   "execution_count": null,
   "id": "101c35f4-8782-4122-b2a7-e2be6535f305",
   "metadata": {},
   "outputs": [],
   "source": []
  }
 ],
 "metadata": {
  "kernelspec": {
   "display_name": "Python 3 (ipykernel)",
   "language": "python",
   "name": "python3"
  },
  "language_info": {
   "codemirror_mode": {
    "name": "ipython",
    "version": 3
   },
   "file_extension": ".py",
   "mimetype": "text/x-python",
   "name": "python",
   "nbconvert_exporter": "python",
   "pygments_lexer": "ipython3",
   "version": "3.8.18"
  }
 },
 "nbformat": 4,
 "nbformat_minor": 5
}
